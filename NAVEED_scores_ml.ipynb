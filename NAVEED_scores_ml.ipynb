{
 "cells": [
  {
   "cell_type": "markdown",
   "metadata": {},
   "source": [
    "#                                        #TASK- Prediction Using Supervised ML (TSF)"
   ]
  },
  {
   "cell_type": "markdown",
   "metadata": {
    "id": "8dRdzD6sq8Ld"
   },
   "source": [
    "**IMPORT REQUIRED LIBRARIES**"
   ]
  },
  {
   "cell_type": "code",
   "execution_count": 19,
   "metadata": {
    "id": "QO-8rkVmAYg2"
   },
   "outputs": [],
   "source": [
    "import numpy as np\n",
    "import pandas as pd\n",
    "import matplotlib.pyplot as plt\n",
    "import seaborn as sns\n",
    "from sklearn import linear_model"
   ]
  },
  {
   "cell_type": "markdown",
   "metadata": {
    "id": "kInPalW8q0mj"
   },
   "source": [
    "**LOADING THE FILE INTO PANDAS**\n"
   ]
  },
  {
   "cell_type": "code",
   "execution_count": 20,
   "metadata": {
    "id": "Joz0m9DSCMA4"
   },
   "outputs": [],
   "source": [
    "z='https://raw.githubusercontent.com/AdiPersonalWorks/Random/master/student_scores%20-%20student_scores.csv'\n",
    "student_scores=pd.read_csv(z)"
   ]
  },
  {
   "cell_type": "code",
   "execution_count": 21,
   "metadata": {
    "colab": {
     "base_uri": "https://localhost:8080/",
     "height": 170
    },
    "id": "cTMrcYiFCdBx",
    "outputId": "33df4169-ec04-4991-863c-089f4c04f86f"
   },
   "outputs": [
    {
     "name": "stdout",
     "output_type": "stream",
     "text": [
      "<class 'pandas.core.frame.DataFrame'>\n",
      "RangeIndex: 25 entries, 0 to 24\n",
      "Data columns (total 2 columns):\n",
      " #   Column  Non-Null Count  Dtype  \n",
      "---  ------  --------------  -----  \n",
      " 0   Hours   25 non-null     float64\n",
      " 1   Scores  25 non-null     int64  \n",
      "dtypes: float64(1), int64(1)\n",
      "memory usage: 528.0 bytes\n"
     ]
    }
   ],
   "source": [
    "student_scores.info()"
   ]
  },
  {
   "cell_type": "markdown",
   "metadata": {
    "id": "UxWFqPDwEZ2X"
   },
   "source": [
    "**PLOTTING THE DATA**"
   ]
  },
  {
   "cell_type": "code",
   "execution_count": 22,
   "metadata": {
    "colab": {
     "base_uri": "https://localhost:8080/",
     "height": 333
    },
    "id": "0P3_Ivj8Csig",
    "outputId": "11e9ecca-8b10-4c35-bd79-7d25ffe52b9c"
   },
   "outputs": [
    {
     "data": {
      "image/png": "[encoded data removed]",
      "text/plain": [
       "<Figure size 432x288 with 1 Axes>"
      ]
     },
     "metadata": {
      "needs_background": "light"
     },
     "output_type": "display_data"
    }
   ],
   "source": [
    "sns.scatterplot('Hours','Scores',data=student_scores);"
   ]
  },
  {
   "cell_type": "markdown",
   "metadata": {
    "id": "TItnvWflEVYe"
   },
   "source": [
    "**PLOTTING THE DATA FROM DATASET INDICATES A KIND OF LINEAR RELATION BETWEEN THE NUMBER OF HOURS STUDIED AND MARKS OBTAINED. THEREFORE, A LINEAR REGRESSION MODEL WOULD BE A GOOD FIT FOR THIS DATA.**"
   ]
  },
  {
   "cell_type": "markdown",
   "metadata": {
    "id": "vg_NY9oiFGfx"
   },
   "source": [
    "**OBTAINING THE DATA FOR INDEPENDENT VARIABLE AS WELL AS THE TARGET VARIABLE WHICH ARE DENOTED BY \"X\" AND \"Y\" RESPECTIVELY.**"
   ]
  },
  {
   "cell_type": "code",
   "execution_count": 23,
   "metadata": {
    "id": "_4gRfO_1Ff-M"
   },
   "outputs": [],
   "source": [
    "test=student_scores.copy()"
   ]
  },
  {
   "cell_type": "code",
   "execution_count": 24,
   "metadata": {
    "id": "kxpirNFxI2nn"
   },
   "outputs": [],
   "source": [
    "x=test[['Hours']]\n",
    "y=test[['Scores']]"
   ]
  },
  {
   "cell_type": "markdown",
   "metadata": {
    "id": "NRLhjCSIrL3Z"
   },
   "source": [
    "**TRAINING THE DATA**"
   ]
  },
  {
   "cell_type": "code",
   "execution_count": 25,
   "metadata": {
    "id": "hm41dAC-Gr7G"
   },
   "outputs": [],
   "source": [
    "regr=linear_model.LinearRegression()"
   ]
  },
  {
   "cell_type": "code",
   "execution_count": 26,
   "metadata": {
    "colab": {
     "base_uri": "https://localhost:8080/",
     "height": 34
    },
    "id": "0LvMAX-mG7vz",
    "outputId": "694c0aaf-99fc-45f0-8c2c-970906d68d76"
   },
   "outputs": [
    {
     "data": {
      "text/plain": [
       "LinearRegression()"
      ]
     },
     "execution_count": 26,
     "metadata": {},
     "output_type": "execute_result"
    }
   ],
   "source": [
    "regr.fit(x,y)"
   ]
  },
  {
   "cell_type": "code",
   "execution_count": 27,
   "metadata": {
    "colab": {
     "base_uri": "https://localhost:8080/",
     "height": 265
    },
    "id": "J61NX2_2-px7",
    "outputId": "b43fb0f2-37c0-46ba-82f4-097a8f54b26e"
   },
   "outputs": [
    {
     "data": {
      "image/png": "[encoded data removed]",
      "text/plain": [
       "<Figure size 432x288 with 1 Axes>"
      ]
     },
     "metadata": {
      "needs_background": "light"
     },
     "output_type": "display_data"
    }
   ],
   "source": [
    "line = regr.intercept_ + regr.coef_*x\n",
    "\n",
    "plt.scatter(x, y)\n",
    "plt.plot(x, line);\n",
    "plt.show()"
   ]
  },
  {
   "cell_type": "markdown",
   "metadata": {
    "id": "nbVHjzZQHffw"
   },
   "source": [
    "**Making Predictions**"
   ]
  },
  {
   "cell_type": "code",
   "execution_count": 28,
   "metadata": {
    "id": "6_0VTRjsHxHg"
   },
   "outputs": [],
   "source": [
    "y_pr=regr.predict(x)"
   ]
  },
  {
   "cell_type": "code",
   "execution_count": 29,
   "metadata": {
    "colab": {
     "base_uri": "https://localhost:8080/",
     "height": 442
    },
    "id": "jaUlRHBVH4vj",
    "outputId": "85565d6e-1af9-4b61-fa4d-3b4d170aeed3"
   },
   "outputs": [
    {
     "data": {
      "text/plain": [
       "array([[26.92318188],\n",
       "       [52.3402707 ],\n",
       "       [33.76624426],\n",
       "       [85.57800223],\n",
       "       [36.69898527],\n",
       "       [17.14737849],\n",
       "       [92.4210646 ],\n",
       "       [56.25059205],\n",
       "       [83.62284155],\n",
       "       [28.87834256],\n",
       "       [77.75735951],\n",
       "       [60.16091341],\n",
       "       [46.47478866],\n",
       "       [34.74382459],\n",
       "       [13.23705714],\n",
       "       [89.48832358],\n",
       "       [26.92318188],\n",
       "       [21.05769985],\n",
       "       [62.11607409],\n",
       "       [74.8246185 ],\n",
       "       [28.87834256],\n",
       "       [49.40752968],\n",
       "       [39.63172629],\n",
       "       [69.9367168 ],\n",
       "       [78.73493985]])"
      ]
     },
     "execution_count": 29,
     "metadata": {},
     "output_type": "execute_result"
    }
   ],
   "source": [
    "y_pr"
   ]
  },
  {
   "cell_type": "code",
   "execution_count": 30,
   "metadata": {
    "id": "6bmZUMZh5QLb"
   },
   "outputs": [],
   "source": [
    "y_pr=y_pr.reshape(25)"
   ]
  },
  {
   "cell_type": "code",
   "execution_count": 31,
   "metadata": {
    "id": "6BPr446jLSRW"
   },
   "outputs": [],
   "source": [
    "res=pd.DataFrame({'Hours':student_scores['Hours'],'Actual':student_scores['Scores'],'PredictedScore':y_pr})"
   ]
  },
  {
   "cell_type": "code",
   "execution_count": 32,
   "metadata": {
    "colab": {
     "base_uri": "https://localhost:8080/",
     "height": 824
    },
    "id": "pMIDgf1WL88F",
    "outputId": "9ac2f6f8-115c-48bd-f772-a7391a64139c"
   },
   "outputs": [
    {
     "data": {
      "text/html": [
       "<div>\n",
       "<style scoped>\n",
       "    .dataframe tbody tr th:only-of-type {\n",
       "        vertical-align: middle;\n",
       "    }\n",
       "\n",
       "    .dataframe tbody tr th {\n",
       "        vertical-align: top;\n",
       "    }\n",
       "\n",
       "    .dataframe thead th {\n",
       "        text-align: right;\n",
       "    }\n",
       "</style>\n",
       "<table border=\"1\" class=\"dataframe\">\n",
       "  <thead>\n",
       "    <tr style=\"text-align: right;\">\n",
       "      <th></th>\n",
       "      <th>Hours</th>\n",
       "      <th>Actual</th>\n",
       "      <th>PredictedScore</th>\n",
       "    </tr>\n",
       "  </thead>\n",
       "  <tbody>\n",
       "    <tr>\n",
       "      <th>0</th>\n",
       "      <td>2.5</td>\n",
       "      <td>21</td>\n",
       "      <td>26.923182</td>\n",
       "    </tr>\n",
       "    <tr>\n",
       "      <th>1</th>\n",
       "      <td>5.1</td>\n",
       "      <td>47</td>\n",
       "      <td>52.340271</td>\n",
       "    </tr>\n",
       "    <tr>\n",
       "      <th>2</th>\n",
       "      <td>3.2</td>\n",
       "      <td>27</td>\n",
       "      <td>33.766244</td>\n",
       "    </tr>\n",
       "    <tr>\n",
       "      <th>3</th>\n",
       "      <td>8.5</td>\n",
       "      <td>75</td>\n",
       "      <td>85.578002</td>\n",
       "    </tr>\n",
       "    <tr>\n",
       "      <th>4</th>\n",
       "      <td>3.5</td>\n",
       "      <td>30</td>\n",
       "      <td>36.698985</td>\n",
       "    </tr>\n",
       "    <tr>\n",
       "      <th>5</th>\n",
       "      <td>1.5</td>\n",
       "      <td>20</td>\n",
       "      <td>17.147378</td>\n",
       "    </tr>\n",
       "    <tr>\n",
       "      <th>6</th>\n",
       "      <td>9.2</td>\n",
       "      <td>88</td>\n",
       "      <td>92.421065</td>\n",
       "    </tr>\n",
       "    <tr>\n",
       "      <th>7</th>\n",
       "      <td>5.5</td>\n",
       "      <td>60</td>\n",
       "      <td>56.250592</td>\n",
       "    </tr>\n",
       "    <tr>\n",
       "      <th>8</th>\n",
       "      <td>8.3</td>\n",
       "      <td>81</td>\n",
       "      <td>83.622842</td>\n",
       "    </tr>\n",
       "    <tr>\n",
       "      <th>9</th>\n",
       "      <td>2.7</td>\n",
       "      <td>25</td>\n",
       "      <td>28.878343</td>\n",
       "    </tr>\n",
       "    <tr>\n",
       "      <th>10</th>\n",
       "      <td>7.7</td>\n",
       "      <td>85</td>\n",
       "      <td>77.757360</td>\n",
       "    </tr>\n",
       "    <tr>\n",
       "      <th>11</th>\n",
       "      <td>5.9</td>\n",
       "      <td>62</td>\n",
       "      <td>60.160913</td>\n",
       "    </tr>\n",
       "    <tr>\n",
       "      <th>12</th>\n",
       "      <td>4.5</td>\n",
       "      <td>41</td>\n",
       "      <td>46.474789</td>\n",
       "    </tr>\n",
       "    <tr>\n",
       "      <th>13</th>\n",
       "      <td>3.3</td>\n",
       "      <td>42</td>\n",
       "      <td>34.743825</td>\n",
       "    </tr>\n",
       "    <tr>\n",
       "      <th>14</th>\n",
       "      <td>1.1</td>\n",
       "      <td>17</td>\n",
       "      <td>13.237057</td>\n",
       "    </tr>\n",
       "    <tr>\n",
       "      <th>15</th>\n",
       "      <td>8.9</td>\n",
       "      <td>95</td>\n",
       "      <td>89.488324</td>\n",
       "    </tr>\n",
       "    <tr>\n",
       "      <th>16</th>\n",
       "      <td>2.5</td>\n",
       "      <td>30</td>\n",
       "      <td>26.923182</td>\n",
       "    </tr>\n",
       "    <tr>\n",
       "      <th>17</th>\n",
       "      <td>1.9</td>\n",
       "      <td>24</td>\n",
       "      <td>21.057700</td>\n",
       "    </tr>\n",
       "    <tr>\n",
       "      <th>18</th>\n",
       "      <td>6.1</td>\n",
       "      <td>67</td>\n",
       "      <td>62.116074</td>\n",
       "    </tr>\n",
       "    <tr>\n",
       "      <th>19</th>\n",
       "      <td>7.4</td>\n",
       "      <td>69</td>\n",
       "      <td>74.824618</td>\n",
       "    </tr>\n",
       "    <tr>\n",
       "      <th>20</th>\n",
       "      <td>2.7</td>\n",
       "      <td>30</td>\n",
       "      <td>28.878343</td>\n",
       "    </tr>\n",
       "    <tr>\n",
       "      <th>21</th>\n",
       "      <td>4.8</td>\n",
       "      <td>54</td>\n",
       "      <td>49.407530</td>\n",
       "    </tr>\n",
       "    <tr>\n",
       "      <th>22</th>\n",
       "      <td>3.8</td>\n",
       "      <td>35</td>\n",
       "      <td>39.631726</td>\n",
       "    </tr>\n",
       "    <tr>\n",
       "      <th>23</th>\n",
       "      <td>6.9</td>\n",
       "      <td>76</td>\n",
       "      <td>69.936717</td>\n",
       "    </tr>\n",
       "    <tr>\n",
       "      <th>24</th>\n",
       "      <td>7.8</td>\n",
       "      <td>86</td>\n",
       "      <td>78.734940</td>\n",
       "    </tr>\n",
       "  </tbody>\n",
       "</table>\n",
       "</div>"
      ],
      "text/plain": [
       "    Hours  Actual  PredictedScore\n",
       "0     2.5      21       26.923182\n",
       "1     5.1      47       52.340271\n",
       "2     3.2      27       33.766244\n",
       "3     8.5      75       85.578002\n",
       "4     3.5      30       36.698985\n",
       "5     1.5      20       17.147378\n",
       "6     9.2      88       92.421065\n",
       "7     5.5      60       56.250592\n",
       "8     8.3      81       83.622842\n",
       "9     2.7      25       28.878343\n",
       "10    7.7      85       77.757360\n",
       "11    5.9      62       60.160913\n",
       "12    4.5      41       46.474789\n",
       "13    3.3      42       34.743825\n",
       "14    1.1      17       13.237057\n",
       "15    8.9      95       89.488324\n",
       "16    2.5      30       26.923182\n",
       "17    1.9      24       21.057700\n",
       "18    6.1      67       62.116074\n",
       "19    7.4      69       74.824618\n",
       "20    2.7      30       28.878343\n",
       "21    4.8      54       49.407530\n",
       "22    3.8      35       39.631726\n",
       "23    6.9      76       69.936717\n",
       "24    7.8      86       78.734940"
      ]
     },
     "execution_count": 32,
     "metadata": {},
     "output_type": "execute_result"
    }
   ],
   "source": [
    "res"
   ]
  },
  {
   "cell_type": "markdown",
   "metadata": {
    "id": "f-VQrooyMCP1"
   },
   "source": [
    "**CALCULATING THE ERROR/PERFORMANCE**"
   ]
  },
  {
   "cell_type": "code",
   "execution_count": 33,
   "metadata": {
    "colab": {
     "base_uri": "https://localhost:8080/",
     "height": 34
    },
    "id": "r5UOrRH-5VCQ",
    "outputId": "57df23b2-d7f5-4ba7-9b0e-2ef5b9d8197a"
   },
   "outputs": [
    {
     "name": "stdout",
     "output_type": "stream",
     "text": [
      "Mean Absolute Error: 4.972805319866375\n"
     ]
    }
   ],
   "source": [
    "from sklearn import metrics  \n",
    "print('Mean Absolute Error:', \n",
    "      metrics.mean_absolute_error(student_scores['Scores'], y_pr)) "
   ]
  },
  {
   "cell_type": "markdown",
   "metadata": {
    "id": "chH1d0dUqPhw"
   },
   "source": [
    "**THE NEW DATAFRAME CONTAINING ACTUAL AND PREDICTED VALUES CAN BE EXPORTED TO A DIFFERENT CSV FILE AS MENTIONED BELOW**"
   ]
  },
  {
   "cell_type": "code",
   "execution_count": 35,
   "metadata": {
    "id": "sRxd-ks0jBD-"
   },
   "outputs": [],
   "source": [
    "res.to_csv('new_scores.csv',index=True)"
   ]
  },
  {
   "cell_type": "markdown",
   "metadata": {},
   "source": [
    "# PREDICTING THE SCORE FOR 9.25 HOURS"
   ]
  },
  {
   "cell_type": "code",
   "execution_count": 36,
   "metadata": {},
   "outputs": [
    {
     "data": {
      "text/plain": [
       "array([[92.90985477]])"
      ]
     },
     "execution_count": 36,
     "metadata": {},
     "output_type": "execute_result"
    }
   ],
   "source": [
    "z=np.array([9.25])\n",
    "z=z.reshape(-1,1)\n",
    "regr.predict(z)"
   ]
  },
  {
   "cell_type": "markdown",
   "metadata": {},
   "source": [
    "#### "
   ]
  }
 ],
 "metadata": {
  "colab": {
   "collapsed_sections": [],
   "name": "basicML.ipynb",
   "provenance": []
  },
  "kernelspec": {
   "display_name": "Python 3",
   "language": "python",
   "name": "python3"
  },
  "language_info": {
   "codemirror_mode": {
    "name": "ipython",
    "version": 3
   },
   "file_extension": ".py",
   "mimetype": "text/x-python",
   "name": "python",
   "nbconvert_exporter": "python",
   "pygments_lexer": "ipython3",
   "version": "3.8.3"
  }
 },
 "nbformat": 4,
 "nbformat_minor": 1
}
